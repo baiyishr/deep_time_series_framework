{
 "cells": [
  {
   "cell_type": "code",
   "execution_count": 1,
   "metadata": {},
   "outputs": [],
   "source": [
    "import argparse\n",
    "import json\n",
    "import pytorch_lightning as pl\n",
    "from argparse import Namespace\n",
    "from model import DTSModel\n",
    "from datamodules.csvdatamodule import CsvDataModule\n",
    "from datamodules.hivedatamodule import HiveDataModule\n",
    "from datamodules.sqldatamodule import SqlDataModule\n",
    "from datamodules.s3datamodule import S3DataModule\n",
    "from pytorch_lightning.callbacks import EarlyStopping, LearningRateMonitor, ModelCheckpoint\n",
    "from pytorch_lightning.loggers import TensorBoardLogger\n",
    "from dataclasses import dataclass\n",
    "import torch"
   ]
  },
  {
   "cell_type": "code",
   "execution_count": 2,
   "metadata": {},
   "outputs": [],
   "source": [
    "@dataclass\n",
    "class Config:\n",
    "    data: dict\n",
    "    model: dict\n",
    "    train:dict\n",
    "        \n",
    "config = Config(\n",
    "    data= {\n",
    "        \"data\": \"csv\",\n",
    "        \"data_params\": {\n",
    "            \"dataset\": \"rnn\",\n",
    "            \"num_feature\": 5,\n",
    "            \"seq_len\": 20,\n",
    "            \"tgt_len\": 2,\n",
    "            \"batch_size\": 32,\n",
    "            \"train_path\": \"data/QQQ_train.csv\",\n",
    "            \"val_path\": \"data/QQQ_val.csv\",\n",
    "            \"test_path\": \"data/QQQ_test.csv\"\n",
    "        }\n",
    "    },\n",
    "    model= {\n",
    "        \"model_name\": \"custom_rnn\",\n",
    "        \"model_params\": {\n",
    "            \"input_size\": 5,\n",
    "            \"hidden_size\": 32,\n",
    "            \"output_size\": 2,\n",
    "            \"num_layers\": 2,\n",
    "            \"lr\": 1e-4,\n",
    "        },\n",
    "        \"loss_fn_type\": \"mse\",\n",
    "        \"loss_params\": {}\n",
    "    },\n",
    "    train=  {\n",
    "        \"accelerator\": \"gpu\",\n",
    "        \"devices\": 1,\n",
    "        \"strategy\": 'ddp',\n",
    "        \"max_epochs\": 50\n",
    "    }\n",
    ")"
   ]
  },
  {
   "cell_type": "code",
   "execution_count": 3,
   "metadata": {},
   "outputs": [
    {
     "name": "stderr",
     "output_type": "stream",
     "text": [
      "Global seed set to 42\n"
     ]
    }
   ],
   "source": [
    "pl.seed_everything(42, workers=True)\n",
    "logger = TensorBoardLogger('logs/', name=config.model['model_name'])"
   ]
  },
  {
   "cell_type": "code",
   "execution_count": 4,
   "metadata": {},
   "outputs": [],
   "source": [
    "# Create LightningDataModule\n",
    "data_module = CsvDataModule(config.data['data_params'])\n"
   ]
  },
  {
   "cell_type": "code",
   "execution_count": 5,
   "metadata": {},
   "outputs": [
    {
     "data": {
      "text/plain": [
       "(2960, 1)"
      ]
     },
     "execution_count": 5,
     "metadata": {},
     "output_type": "execute_result"
    }
   ],
   "source": [
    "test = data_module.train_data[:,4].reshape(-1, 1)\n",
    "test.shape"
   ]
  },
  {
   "cell_type": "code",
   "execution_count": 6,
   "metadata": {},
   "outputs": [
    {
     "data": {
      "text/plain": [
       "[tensor([[[-1.3370, -1.3235, -1.3383, -1.2842,  2.8143],\n",
       "          [-1.3149, -1.3014, -1.3150, -1.2704,  5.1295],\n",
       "          [-1.3026, -1.2994, -1.3053, -1.2621,  2.7092],\n",
       "          ...,\n",
       "          [-1.2813, -1.2730, -1.2808, -1.2429,  2.2785],\n",
       "          [-1.2797, -1.2754, -1.2807, -1.2464,  1.9115],\n",
       "          [-1.2760, -1.2676, -1.2752, -1.2399,  2.9222]],\n",
       " \n",
       "         [[-1.3149, -1.3014, -1.3150, -1.2704,  5.1295],\n",
       "          [-1.3026, -1.2994, -1.3053, -1.2621,  2.7092],\n",
       "          [-1.3042, -1.3005, -1.3083, -1.2633,  3.5140],\n",
       "          ...,\n",
       "          [-1.2797, -1.2754, -1.2807, -1.2464,  1.9115],\n",
       "          [-1.2760, -1.2676, -1.2752, -1.2399,  2.9222],\n",
       "          [-1.2658, -1.2597, -1.2697, -1.2352,  3.0065]],\n",
       " \n",
       "         [[-1.3026, -1.2994, -1.3053, -1.2621,  2.7092],\n",
       "          [-1.3042, -1.3005, -1.3083, -1.2633,  3.5140],\n",
       "          [-1.3053, -1.3070, -1.3154, -1.2751,  3.1127],\n",
       "          ...,\n",
       "          [-1.2760, -1.2676, -1.2752, -1.2399,  2.9222],\n",
       "          [-1.2658, -1.2597, -1.2697, -1.2352,  3.0065],\n",
       "          [-1.2677, -1.2654, -1.2702, -1.2339,  1.6356]],\n",
       " \n",
       "         ...,\n",
       " \n",
       "         [[-1.2779, -1.2795, -1.2871, -1.2528,  3.9855],\n",
       "          [-1.2864, -1.2787, -1.2852, -1.2476,  2.8788],\n",
       "          [-1.2826, -1.2768, -1.2828, -1.2479,  2.2964],\n",
       "          ...,\n",
       "          [-1.2312, -1.2271, -1.2361, -1.2018,  1.2955],\n",
       "          [-1.2266, -1.2237, -1.2272, -1.1979,  1.9183],\n",
       "          [-1.2215, -1.2237, -1.2334, -1.1997,  2.6727]],\n",
       " \n",
       "         [[-1.2864, -1.2787, -1.2852, -1.2476,  2.8788],\n",
       "          [-1.2826, -1.2768, -1.2828, -1.2479,  2.2964],\n",
       "          [-1.2784, -1.2695, -1.2802, -1.2357,  2.0786],\n",
       "          ...,\n",
       "          [-1.2266, -1.2237, -1.2272, -1.1979,  1.9183],\n",
       "          [-1.2215, -1.2237, -1.2334, -1.1997,  2.6727],\n",
       "          [-1.2277, -1.2227, -1.2259, -1.1997,  3.1245]],\n",
       " \n",
       "         [[-1.2826, -1.2768, -1.2828, -1.2479,  2.2964],\n",
       "          [-1.2784, -1.2695, -1.2802, -1.2357,  2.0786],\n",
       "          [-1.2694, -1.2622, -1.2711, -1.2335,  2.5382],\n",
       "          ...,\n",
       "          [-1.2215, -1.2237, -1.2334, -1.1997,  2.6727],\n",
       "          [-1.2277, -1.2227, -1.2259, -1.1997,  3.1245],\n",
       "          [-1.2293, -1.2308, -1.2348, -1.2020,  1.9266]]], dtype=torch.float64),\n",
       " tensor([[-1.2352, -1.2339],\n",
       "         [-1.2339, -1.2244],\n",
       "         [-1.2244, -1.2248],\n",
       "         [-1.2248, -1.2247],\n",
       "         [-1.2247, -1.2362],\n",
       "         [-1.2362, -1.2359],\n",
       "         [-1.2359, -1.2342],\n",
       "         [-1.2342, -1.2401],\n",
       "         [-1.2401, -1.2528],\n",
       "         [-1.2528, -1.2476],\n",
       "         [-1.2476, -1.2479],\n",
       "         [-1.2479, -1.2357],\n",
       "         [-1.2357, -1.2335],\n",
       "         [-1.2335, -1.2352],\n",
       "         [-1.2352, -1.2440],\n",
       "         [-1.2440, -1.2455],\n",
       "         [-1.2455, -1.2280],\n",
       "         [-1.2280, -1.2314],\n",
       "         [-1.2314, -1.2258],\n",
       "         [-1.2258, -1.2198],\n",
       "         [-1.2198, -1.2057],\n",
       "         [-1.2057, -1.2050],\n",
       "         [-1.2050, -1.2065],\n",
       "         [-1.2065, -1.2008],\n",
       "         [-1.2008, -1.2002],\n",
       "         [-1.2002, -1.2018],\n",
       "         [-1.2018, -1.1979],\n",
       "         [-1.1979, -1.1997],\n",
       "         [-1.1997, -1.1997],\n",
       "         [-1.1997, -1.2020],\n",
       "         [-1.2020, -1.2125],\n",
       "         [-1.2125, -1.2174]], dtype=torch.float64)]"
      ]
     },
     "execution_count": 6,
     "metadata": {},
     "output_type": "execute_result"
    }
   ],
   "source": [
    "next(iter(data_module.train_dataloader()))"
   ]
  },
  {
   "cell_type": "code",
   "execution_count": 7,
   "metadata": {},
   "outputs": [
    {
     "data": {
      "text/plain": [
       "DTSModel(\n",
       "  (model): CustomRNN(\n",
       "    (rnn): LSTM(5, 32, num_layers=2, batch_first=True)\n",
       "    (dropout): Dropout(p=0.2, inplace=False)\n",
       "    (fc): Linear(in_features=32, out_features=2, bias=True)\n",
       "  )\n",
       "  (loss_fn): MSE()\n",
       ")"
      ]
     },
     "execution_count": 7,
     "metadata": {},
     "output_type": "execute_result"
    }
   ],
   "source": [
    "# Create LightningModule\n",
    "device = torch.device('cuda') if config.train['accelerator']=='gpu' else torch.device('cpu')\n",
    "model = DTSModel(config.model, device)\n",
    "model.to(device)"
   ]
  },
  {
   "cell_type": "code",
   "execution_count": 8,
   "metadata": {},
   "outputs": [
    {
     "name": "stderr",
     "output_type": "stream",
     "text": [
      "GPU available: True (cuda), used: True\n",
      "TPU available: False, using: 0 TPU cores\n",
      "IPU available: False, using: 0 IPUs\n",
      "HPU available: False, using: 0 HPUs\n",
      "/hd1/anaconda3/lib/python3.8/site-packages/pytorch_lightning/callbacks/model_checkpoint.py:613: UserWarning: Checkpoint directory /hd1/dl/deep_time_series_framework/checkpoints exists and is not empty.\n",
      "  rank_zero_warn(f\"Checkpoint directory {dirpath} exists and is not empty.\")\n",
      "LOCAL_RANK: 0 - CUDA_VISIBLE_DEVICES: [0]\n",
      "\n",
      "  | Name    | Type      | Params\n",
      "--------------------------------------\n",
      "0 | model   | CustomRNN | 13.5 K\n",
      "1 | loss_fn | MSE       | 0     \n",
      "--------------------------------------\n",
      "13.5 K    Trainable params\n",
      "0         Non-trainable params\n",
      "13.5 K    Total params\n",
      "0.054     Total estimated model params size (MB)\n"
     ]
    },
    {
     "data": {
      "application/vnd.jupyter.widget-view+json": {
       "model_id": "",
       "version_major": 2,
       "version_minor": 0
      },
      "text/plain": [
       "Sanity Checking: 0it [00:00, ?it/s]"
      ]
     },
     "metadata": {},
     "output_type": "display_data"
    },
    {
     "data": {
      "application/vnd.jupyter.widget-view+json": {
       "model_id": "29a16f93c3f84acfbf49547ff4ae6eac",
       "version_major": 2,
       "version_minor": 0
      },
      "text/plain": [
       "Training: 0it [00:00, ?it/s]"
      ]
     },
     "metadata": {},
     "output_type": "display_data"
    },
    {
     "data": {
      "application/vnd.jupyter.widget-view+json": {
       "model_id": "",
       "version_major": 2,
       "version_minor": 0
      },
      "text/plain": [
       "Validation: 0it [00:00, ?it/s]"
      ]
     },
     "metadata": {},
     "output_type": "display_data"
    },
    {
     "data": {
      "application/vnd.jupyter.widget-view+json": {
       "model_id": "",
       "version_major": 2,
       "version_minor": 0
      },
      "text/plain": [
       "Validation: 0it [00:00, ?it/s]"
      ]
     },
     "metadata": {},
     "output_type": "display_data"
    },
    {
     "data": {
      "application/vnd.jupyter.widget-view+json": {
       "model_id": "",
       "version_major": 2,
       "version_minor": 0
      },
      "text/plain": [
       "Validation: 0it [00:00, ?it/s]"
      ]
     },
     "metadata": {},
     "output_type": "display_data"
    },
    {
     "data": {
      "application/vnd.jupyter.widget-view+json": {
       "model_id": "",
       "version_major": 2,
       "version_minor": 0
      },
      "text/plain": [
       "Validation: 0it [00:00, ?it/s]"
      ]
     },
     "metadata": {},
     "output_type": "display_data"
    },
    {
     "data": {
      "application/vnd.jupyter.widget-view+json": {
       "model_id": "",
       "version_major": 2,
       "version_minor": 0
      },
      "text/plain": [
       "Validation: 0it [00:00, ?it/s]"
      ]
     },
     "metadata": {},
     "output_type": "display_data"
    },
    {
     "data": {
      "application/vnd.jupyter.widget-view+json": {
       "model_id": "",
       "version_major": 2,
       "version_minor": 0
      },
      "text/plain": [
       "Validation: 0it [00:00, ?it/s]"
      ]
     },
     "metadata": {},
     "output_type": "display_data"
    },
    {
     "data": {
      "application/vnd.jupyter.widget-view+json": {
       "model_id": "",
       "version_major": 2,
       "version_minor": 0
      },
      "text/plain": [
       "Validation: 0it [00:00, ?it/s]"
      ]
     },
     "metadata": {},
     "output_type": "display_data"
    },
    {
     "data": {
      "application/vnd.jupyter.widget-view+json": {
       "model_id": "",
       "version_major": 2,
       "version_minor": 0
      },
      "text/plain": [
       "Validation: 0it [00:00, ?it/s]"
      ]
     },
     "metadata": {},
     "output_type": "display_data"
    },
    {
     "data": {
      "application/vnd.jupyter.widget-view+json": {
       "model_id": "",
       "version_major": 2,
       "version_minor": 0
      },
      "text/plain": [
       "Validation: 0it [00:00, ?it/s]"
      ]
     },
     "metadata": {},
     "output_type": "display_data"
    },
    {
     "data": {
      "application/vnd.jupyter.widget-view+json": {
       "model_id": "",
       "version_major": 2,
       "version_minor": 0
      },
      "text/plain": [
       "Validation: 0it [00:00, ?it/s]"
      ]
     },
     "metadata": {},
     "output_type": "display_data"
    },
    {
     "data": {
      "application/vnd.jupyter.widget-view+json": {
       "model_id": "",
       "version_major": 2,
       "version_minor": 0
      },
      "text/plain": [
       "Validation: 0it [00:00, ?it/s]"
      ]
     },
     "metadata": {},
     "output_type": "display_data"
    },
    {
     "data": {
      "application/vnd.jupyter.widget-view+json": {
       "model_id": "",
       "version_major": 2,
       "version_minor": 0
      },
      "text/plain": [
       "Validation: 0it [00:00, ?it/s]"
      ]
     },
     "metadata": {},
     "output_type": "display_data"
    },
    {
     "data": {
      "application/vnd.jupyter.widget-view+json": {
       "model_id": "",
       "version_major": 2,
       "version_minor": 0
      },
      "text/plain": [
       "Validation: 0it [00:00, ?it/s]"
      ]
     },
     "metadata": {},
     "output_type": "display_data"
    },
    {
     "data": {
      "application/vnd.jupyter.widget-view+json": {
       "model_id": "",
       "version_major": 2,
       "version_minor": 0
      },
      "text/plain": [
       "Validation: 0it [00:00, ?it/s]"
      ]
     },
     "metadata": {},
     "output_type": "display_data"
    },
    {
     "data": {
      "application/vnd.jupyter.widget-view+json": {
       "model_id": "",
       "version_major": 2,
       "version_minor": 0
      },
      "text/plain": [
       "Validation: 0it [00:00, ?it/s]"
      ]
     },
     "metadata": {},
     "output_type": "display_data"
    },
    {
     "data": {
      "application/vnd.jupyter.widget-view+json": {
       "model_id": "",
       "version_major": 2,
       "version_minor": 0
      },
      "text/plain": [
       "Validation: 0it [00:00, ?it/s]"
      ]
     },
     "metadata": {},
     "output_type": "display_data"
    },
    {
     "data": {
      "application/vnd.jupyter.widget-view+json": {
       "model_id": "",
       "version_major": 2,
       "version_minor": 0
      },
      "text/plain": [
       "Validation: 0it [00:00, ?it/s]"
      ]
     },
     "metadata": {},
     "output_type": "display_data"
    },
    {
     "data": {
      "application/vnd.jupyter.widget-view+json": {
       "model_id": "",
       "version_major": 2,
       "version_minor": 0
      },
      "text/plain": [
       "Validation: 0it [00:00, ?it/s]"
      ]
     },
     "metadata": {},
     "output_type": "display_data"
    },
    {
     "data": {
      "application/vnd.jupyter.widget-view+json": {
       "model_id": "",
       "version_major": 2,
       "version_minor": 0
      },
      "text/plain": [
       "Validation: 0it [00:00, ?it/s]"
      ]
     },
     "metadata": {},
     "output_type": "display_data"
    },
    {
     "data": {
      "application/vnd.jupyter.widget-view+json": {
       "model_id": "",
       "version_major": 2,
       "version_minor": 0
      },
      "text/plain": [
       "Validation: 0it [00:00, ?it/s]"
      ]
     },
     "metadata": {},
     "output_type": "display_data"
    },
    {
     "data": {
      "application/vnd.jupyter.widget-view+json": {
       "model_id": "",
       "version_major": 2,
       "version_minor": 0
      },
      "text/plain": [
       "Validation: 0it [00:00, ?it/s]"
      ]
     },
     "metadata": {},
     "output_type": "display_data"
    },
    {
     "data": {
      "application/vnd.jupyter.widget-view+json": {
       "model_id": "",
       "version_major": 2,
       "version_minor": 0
      },
      "text/plain": [
       "Validation: 0it [00:00, ?it/s]"
      ]
     },
     "metadata": {},
     "output_type": "display_data"
    },
    {
     "data": {
      "application/vnd.jupyter.widget-view+json": {
       "model_id": "",
       "version_major": 2,
       "version_minor": 0
      },
      "text/plain": [
       "Validation: 0it [00:00, ?it/s]"
      ]
     },
     "metadata": {},
     "output_type": "display_data"
    },
    {
     "data": {
      "application/vnd.jupyter.widget-view+json": {
       "model_id": "",
       "version_major": 2,
       "version_minor": 0
      },
      "text/plain": [
       "Validation: 0it [00:00, ?it/s]"
      ]
     },
     "metadata": {},
     "output_type": "display_data"
    },
    {
     "data": {
      "application/vnd.jupyter.widget-view+json": {
       "model_id": "",
       "version_major": 2,
       "version_minor": 0
      },
      "text/plain": [
       "Validation: 0it [00:00, ?it/s]"
      ]
     },
     "metadata": {},
     "output_type": "display_data"
    },
    {
     "data": {
      "application/vnd.jupyter.widget-view+json": {
       "model_id": "",
       "version_major": 2,
       "version_minor": 0
      },
      "text/plain": [
       "Validation: 0it [00:00, ?it/s]"
      ]
     },
     "metadata": {},
     "output_type": "display_data"
    },
    {
     "data": {
      "application/vnd.jupyter.widget-view+json": {
       "model_id": "",
       "version_major": 2,
       "version_minor": 0
      },
      "text/plain": [
       "Validation: 0it [00:00, ?it/s]"
      ]
     },
     "metadata": {},
     "output_type": "display_data"
    },
    {
     "data": {
      "application/vnd.jupyter.widget-view+json": {
       "model_id": "",
       "version_major": 2,
       "version_minor": 0
      },
      "text/plain": [
       "Validation: 0it [00:00, ?it/s]"
      ]
     },
     "metadata": {},
     "output_type": "display_data"
    },
    {
     "data": {
      "application/vnd.jupyter.widget-view+json": {
       "model_id": "",
       "version_major": 2,
       "version_minor": 0
      },
      "text/plain": [
       "Validation: 0it [00:00, ?it/s]"
      ]
     },
     "metadata": {},
     "output_type": "display_data"
    },
    {
     "data": {
      "application/vnd.jupyter.widget-view+json": {
       "model_id": "",
       "version_major": 2,
       "version_minor": 0
      },
      "text/plain": [
       "Validation: 0it [00:00, ?it/s]"
      ]
     },
     "metadata": {},
     "output_type": "display_data"
    },
    {
     "data": {
      "application/vnd.jupyter.widget-view+json": {
       "model_id": "",
       "version_major": 2,
       "version_minor": 0
      },
      "text/plain": [
       "Validation: 0it [00:00, ?it/s]"
      ]
     },
     "metadata": {},
     "output_type": "display_data"
    },
    {
     "data": {
      "application/vnd.jupyter.widget-view+json": {
       "model_id": "",
       "version_major": 2,
       "version_minor": 0
      },
      "text/plain": [
       "Validation: 0it [00:00, ?it/s]"
      ]
     },
     "metadata": {},
     "output_type": "display_data"
    },
    {
     "data": {
      "application/vnd.jupyter.widget-view+json": {
       "model_id": "",
       "version_major": 2,
       "version_minor": 0
      },
      "text/plain": [
       "Validation: 0it [00:00, ?it/s]"
      ]
     },
     "metadata": {},
     "output_type": "display_data"
    },
    {
     "data": {
      "application/vnd.jupyter.widget-view+json": {
       "model_id": "",
       "version_major": 2,
       "version_minor": 0
      },
      "text/plain": [
       "Validation: 0it [00:00, ?it/s]"
      ]
     },
     "metadata": {},
     "output_type": "display_data"
    },
    {
     "data": {
      "application/vnd.jupyter.widget-view+json": {
       "model_id": "",
       "version_major": 2,
       "version_minor": 0
      },
      "text/plain": [
       "Validation: 0it [00:00, ?it/s]"
      ]
     },
     "metadata": {},
     "output_type": "display_data"
    },
    {
     "data": {
      "application/vnd.jupyter.widget-view+json": {
       "model_id": "",
       "version_major": 2,
       "version_minor": 0
      },
      "text/plain": [
       "Validation: 0it [00:00, ?it/s]"
      ]
     },
     "metadata": {},
     "output_type": "display_data"
    },
    {
     "data": {
      "application/vnd.jupyter.widget-view+json": {
       "model_id": "",
       "version_major": 2,
       "version_minor": 0
      },
      "text/plain": [
       "Validation: 0it [00:00, ?it/s]"
      ]
     },
     "metadata": {},
     "output_type": "display_data"
    },
    {
     "data": {
      "application/vnd.jupyter.widget-view+json": {
       "model_id": "",
       "version_major": 2,
       "version_minor": 0
      },
      "text/plain": [
       "Validation: 0it [00:00, ?it/s]"
      ]
     },
     "metadata": {},
     "output_type": "display_data"
    },
    {
     "data": {
      "application/vnd.jupyter.widget-view+json": {
       "model_id": "",
       "version_major": 2,
       "version_minor": 0
      },
      "text/plain": [
       "Validation: 0it [00:00, ?it/s]"
      ]
     },
     "metadata": {},
     "output_type": "display_data"
    },
    {
     "data": {
      "application/vnd.jupyter.widget-view+json": {
       "model_id": "",
       "version_major": 2,
       "version_minor": 0
      },
      "text/plain": [
       "Validation: 0it [00:00, ?it/s]"
      ]
     },
     "metadata": {},
     "output_type": "display_data"
    },
    {
     "data": {
      "application/vnd.jupyter.widget-view+json": {
       "model_id": "",
       "version_major": 2,
       "version_minor": 0
      },
      "text/plain": [
       "Validation: 0it [00:00, ?it/s]"
      ]
     },
     "metadata": {},
     "output_type": "display_data"
    },
    {
     "data": {
      "application/vnd.jupyter.widget-view+json": {
       "model_id": "",
       "version_major": 2,
       "version_minor": 0
      },
      "text/plain": [
       "Validation: 0it [00:00, ?it/s]"
      ]
     },
     "metadata": {},
     "output_type": "display_data"
    },
    {
     "data": {
      "application/vnd.jupyter.widget-view+json": {
       "model_id": "",
       "version_major": 2,
       "version_minor": 0
      },
      "text/plain": [
       "Validation: 0it [00:00, ?it/s]"
      ]
     },
     "metadata": {},
     "output_type": "display_data"
    },
    {
     "data": {
      "application/vnd.jupyter.widget-view+json": {
       "model_id": "",
       "version_major": 2,
       "version_minor": 0
      },
      "text/plain": [
       "Validation: 0it [00:00, ?it/s]"
      ]
     },
     "metadata": {},
     "output_type": "display_data"
    },
    {
     "data": {
      "application/vnd.jupyter.widget-view+json": {
       "model_id": "",
       "version_major": 2,
       "version_minor": 0
      },
      "text/plain": [
       "Validation: 0it [00:00, ?it/s]"
      ]
     },
     "metadata": {},
     "output_type": "display_data"
    },
    {
     "data": {
      "application/vnd.jupyter.widget-view+json": {
       "model_id": "",
       "version_major": 2,
       "version_minor": 0
      },
      "text/plain": [
       "Validation: 0it [00:00, ?it/s]"
      ]
     },
     "metadata": {},
     "output_type": "display_data"
    },
    {
     "data": {
      "application/vnd.jupyter.widget-view+json": {
       "model_id": "",
       "version_major": 2,
       "version_minor": 0
      },
      "text/plain": [
       "Validation: 0it [00:00, ?it/s]"
      ]
     },
     "metadata": {},
     "output_type": "display_data"
    },
    {
     "data": {
      "application/vnd.jupyter.widget-view+json": {
       "model_id": "",
       "version_major": 2,
       "version_minor": 0
      },
      "text/plain": [
       "Validation: 0it [00:00, ?it/s]"
      ]
     },
     "metadata": {},
     "output_type": "display_data"
    },
    {
     "data": {
      "application/vnd.jupyter.widget-view+json": {
       "model_id": "",
       "version_major": 2,
       "version_minor": 0
      },
      "text/plain": [
       "Validation: 0it [00:00, ?it/s]"
      ]
     },
     "metadata": {},
     "output_type": "display_data"
    },
    {
     "data": {
      "application/vnd.jupyter.widget-view+json": {
       "model_id": "",
       "version_major": 2,
       "version_minor": 0
      },
      "text/plain": [
       "Validation: 0it [00:00, ?it/s]"
      ]
     },
     "metadata": {},
     "output_type": "display_data"
    },
    {
     "name": "stderr",
     "output_type": "stream",
     "text": [
      "`Trainer.fit` stopped: `max_epochs=50` reached.\n"
     ]
    }
   ],
   "source": [
    "# Callback to save the model checkpoint\n",
    "checkpoint_callback = ModelCheckpoint(\n",
    "        monitor='val_loss',\n",
    "        dirpath='./checkpoints/',\n",
    "        filename='model-{epoch:02d}-{val_loss:.2f}',\n",
    "        save_top_k=3,\n",
    "        mode='min',\n",
    "        save_last=True,\n",
    "        every_n_epochs=1,  # Save checkpoint every epoch\n",
    "    )\n",
    "\n",
    "# Create Trainer\n",
    "trainer = pl.Trainer(\n",
    "        accelerator=config.train['accelerator'],\n",
    "        devices=config.train['devices'],\n",
    "        #strategy=config.train['strategy'],\n",
    "        max_epochs=config.train['max_epochs'],\n",
    "        callbacks=[\n",
    "            #EarlyStopping(monitor='val_loss'),\n",
    "            LearningRateMonitor(logging_interval='step'),\n",
    "            checkpoint_callback\n",
    "        ],\n",
    "        logger=logger,\n",
    "    )\n",
    "\n",
    "# Train the model\n",
    "trainer.fit(model, datamodule=data_module)"
   ]
  },
  {
   "cell_type": "code",
   "execution_count": 9,
   "metadata": {
    "scrolled": false
   },
   "outputs": [
    {
     "name": "stderr",
     "output_type": "stream",
     "text": [
      "/hd1/anaconda3/lib/python3.8/site-packages/pytorch_lightning/trainer/connectors/checkpoint_connector.py:124: UserWarning: `.test(ckpt_path=None)` was called without a model. The best model of the previous `fit` call will be used. You can pass `.test(ckpt_path='best')` to use the best model or `.test(ckpt_path='last')` to use the last model. If you pass a value, this warning will be silenced.\n",
      "  rank_zero_warn(\n",
      "Restoring states from the checkpoint path at /hd1/dl/deep_time_series_framework/checkpoints/model-epoch=48-val_loss=1.03.ckpt\n",
      "LOCAL_RANK: 0 - CUDA_VISIBLE_DEVICES: [0]\n",
      "Loaded model weights from checkpoint at /hd1/dl/deep_time_series_framework/checkpoints/model-epoch=48-val_loss=1.03.ckpt\n"
     ]
    },
    {
     "data": {
      "application/vnd.jupyter.widget-view+json": {
       "model_id": "84b1742cec374f0ba5a9ba35f1733993",
       "version_major": 2,
       "version_minor": 0
      },
      "text/plain": [
       "Testing: 0it [00:00, ?it/s]"
      ]
     },
     "metadata": {},
     "output_type": "display_data"
    },
    {
     "name": "stdout",
     "output_type": "stream",
     "text": [
      "────────────────────────────────────────────────────────────────────────────────────────────────────────────────────────\n",
      "       Test metric             DataLoader 0\n",
      "────────────────────────────────────────────────────────────────────────────────────────────────────────────────────────\n",
      "        test_loss           0.2675507962703705\n",
      "────────────────────────────────────────────────────────────────────────────────────────────────────────────────────────\n"
     ]
    }
   ],
   "source": [
    "preds = trainer.test(datamodule=data_module)"
   ]
  },
  {
   "cell_type": "code",
   "execution_count": 10,
   "metadata": {},
   "outputs": [
    {
     "data": {
      "text/plain": [
       "[{'test_loss': 0.2675507962703705}]"
      ]
     },
     "execution_count": 10,
     "metadata": {},
     "output_type": "execute_result"
    }
   ],
   "source": [
    "preds"
   ]
  },
  {
   "cell_type": "code",
   "execution_count": 11,
   "metadata": {},
   "outputs": [],
   "source": [
    "import numpy as np\n",
    "test_loader = data_module.test_dataloader()\n",
    "predictions = []\n",
    "model.to(device)\n",
    "for batch_idx, (inputs, labels) in enumerate(test_loader):\n",
    "    if batch_idx !=0: continue\n",
    "    \n",
    "    outputs = model(inputs.to(device))\n",
    "    outputs = data_module.target_denormalize(outputs.detach().cpu().numpy().squeeze())\n",
    "    labels = data_module.target_denormalize(labels.detach().cpu().numpy().squeeze())\n",
    "\n",
    "    predictions.append(list(zip(labels, outputs)))\n",
    "#predictions = np.concatenate(predictions, axis=0)"
   ]
  },
  {
   "cell_type": "code",
   "execution_count": 12,
   "metadata": {},
   "outputs": [
    {
     "data": {
      "text/plain": [
       "[[(array([362.84594727, 365.79421997]),\n",
       "   array([263.84976, 261.97858], dtype=float32)),\n",
       "  (array([365.79421997, 350.96350098]),\n",
       "   array([293.55426, 314.81058], dtype=float32)),\n",
       "  (array([350.96350098, 355.39089966]),\n",
       "   array([304.72   , 300.70328], dtype=float32)),\n",
       "  (array([355.39089966, 352.5319519 ]),\n",
       "   array([291.75934, 304.30292], dtype=float32)),\n",
       "  (array([352.5319519 , 356.49276733]),\n",
       "   array([299.433 , 288.2583], dtype=float32)),\n",
       "  (array([356.49276733, 364.04714966]),\n",
       "   array([251.008 , 291.6853], dtype=float32)),\n",
       "  (array([364.04714966, 355.80780029]),\n",
       "   array([265.15878, 301.03018], dtype=float32)),\n",
       "  (array([355.80780029, 344.52102661]),\n",
       "   array([229.24025, 235.74048], dtype=float32)),\n",
       "  (array([344.52102661, 344.94781494]),\n",
       "   array([302.04037, 292.16858], dtype=float32)),\n",
       "  (array([344.94781494, 353.52462769]),\n",
       "   array([305.80927, 296.30484], dtype=float32)),\n",
       "  (array([353.52462769, 353.43533325]),\n",
       "   array([259.57758, 253.1899 ], dtype=float32)),\n",
       "  (array([353.43533325, 342.92282104]),\n",
       "   array([285.04498, 287.34048], dtype=float32)),\n",
       "  (array([342.92282104, 339.01159668]),\n",
       "   array([317.5837 , 296.37106], dtype=float32)),\n",
       "  (array([339.01159668, 335.60668945]),\n",
       "   array([290.90897, 259.1215 ], dtype=float32)),\n",
       "  (array([335.60668945, 327.01004028]),\n",
       "   array([289.2596 , 309.15594], dtype=float32)),\n",
       "  (array([327.01004028, 337.99905396]),\n",
       "   array([276.6295 , 292.85312], dtype=float32)),\n",
       "  (array([337.99905396, 343.24041748]),\n",
       "   array([266.1923 , 299.64603], dtype=float32)),\n",
       "  (array([343.24041748, 344.26290894]),\n",
       "   array([272.6648 , 278.94284], dtype=float32)),\n",
       "  (array([344.26290894, 338.99169922]),\n",
       "   array([292.41998, 295.40576], dtype=float32)),\n",
       "  (array([338.99169922, 344.67980957]),\n",
       "   array([292.53845, 308.60535], dtype=float32)),\n",
       "  (array([344.67980957, 339.75610352]),\n",
       "   array([269.08026, 285.50433], dtype=float32)),\n",
       "  (array([339.75610352, 334.83239746]),\n",
       "   array([291.199  , 272.29233], dtype=float32)),\n",
       "  (array([334.83239746, 322.48339844]),\n",
       "   array([305.8507, 309.3946], dtype=float32)),\n",
       "  (array([322.48339844, 320.98446655]),\n",
       "   array([285.1522, 260.4874], dtype=float32)),\n",
       "  (array([320.98446655, 332.53930664]),\n",
       "   array([286.28177, 283.35596], dtype=float32)),\n",
       "  (array([332.53930664, 328.84649658]),\n",
       "   array([292.55414, 283.3594 ], dtype=float32)),\n",
       "  (array([328.84649658, 322.02676392]),\n",
       "   array([251.524  , 301.92035], dtype=float32)),\n",
       "  (array([322.02676392, 315.84234619]),\n",
       "   array([299.3473, 294.1153], dtype=float32)),\n",
       "  (array([315.84234619, 325.74932861]),\n",
       "   array([301.17917, 313.9217 ], dtype=float32)),\n",
       "  (array([325.74932861, 337.83032227]),\n",
       "   array([296.55057, 305.73843], dtype=float32)),\n",
       "  (array([337.83032227, 341.92016602]),\n",
       "   array([234.70074, 265.71194], dtype=float32)),\n",
       "  (array([341.92016602, 348.91860962]),\n",
       "   array([308.68127, 311.61594], dtype=float32))]]"
      ]
     },
     "execution_count": 12,
     "metadata": {},
     "output_type": "execute_result"
    }
   ],
   "source": [
    "predictions"
   ]
  },
  {
   "cell_type": "code",
   "execution_count": null,
   "metadata": {},
   "outputs": [],
   "source": []
  }
 ],
 "metadata": {
  "kernelspec": {
   "display_name": "Python 3",
   "language": "python",
   "name": "python3"
  },
  "language_info": {
   "codemirror_mode": {
    "name": "ipython",
    "version": 3
   },
   "file_extension": ".py",
   "mimetype": "text/x-python",
   "name": "python",
   "nbconvert_exporter": "python",
   "pygments_lexer": "ipython3",
   "version": "3.8.3"
  }
 },
 "nbformat": 4,
 "nbformat_minor": 4
}
